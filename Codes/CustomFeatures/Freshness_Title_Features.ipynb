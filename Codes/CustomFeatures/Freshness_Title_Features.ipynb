{
 "cells": [
  {
   "cell_type": "code",
   "execution_count": null,
   "metadata": {
    "collapsed": true
   },
   "outputs": [],
   "source": [
    "from sklearn.feature_extraction.text import CountVectorizer\n",
    "from scipy.spatial.distance import cosine\n",
    "from datetime import datetime\n",
    "import pandas as pd\n",
    "\n",
    "petitions = pd.read_csv(\"WTP_dataset_1K.csv\", header=0)\n",
    "\n",
    "#For US petitions, we use title and content of text\n",
    "petitions['fulltext'] = petitions['title'].astype('str')+' '+petitions['content'].astype('str')\n",
    "tf_vectorizer = CountVectorizer(ngram_range=(1,1), stop_words='english', encoding='utf-8', decode_error='ignore')\n",
    "tf_vectorizer.fit(petitions['fulltext'])\n",
    "\n",
    "def getdate(s):\n",
    "    #If the time is proper timestamp, and different format, as in the case of UK petitions, \n",
    "    # then use \\\\\n",
    "    # datev = s.split(\"T\")[0]\n",
    "    # gdate = datetime.strptime(datev, '%Y-%m-%d')\n",
    "    \n",
    "    gdate = datetime.strptime(s, '%d-%b-%y')\n",
    "    return gdate\n",
    "\n",
    "def getsimilarity(y, datev):\n",
    "    gdate = datetime.strptime(datev, '%d-%b-%y')\n",
    "    redpet['opened_at_date'] = redpet['FCD'].apply(getdate)\n",
    "    subset = redpet[redpet['opened_at_date']<gdate]\n",
    "    tfidfs = tf_vectorizer.transform(subset['fulltext'])\n",
    "    minv = 0\n",
    "    for i, j in zip(tfidfs.toarray(), subset['opened_at_date']):        \n",
    "        minv += (1 - cosine(i,y))/((float((gdate-j).days)*1.0)/7.0)\n",
    "    return minv\n",
    "        \n",
    "    \n",
    "    "
   ]
  },
  {
   "cell_type": "code",
   "execution_count": null,
   "metadata": {
    "collapsed": true
   },
   "outputs": [],
   "source": [
    "from random import randint\n",
    "import matplotlib\n",
    "\n",
    "import numpy as np\n",
    "import torch, os\n",
    "\n",
    "# We user infersent from https://github.com/facebookresearch/InferSent\n",
    "# Set of rejected petitions title is given in resources/Noaction_title.csv\n",
    "# We map the title of rejected petitions and petitions from evaluation set to a vector reoresentation using infersent\n",
    "\n",
    "os.chdir('path/InferSent-master/')\n",
    "\n",
    "GLOVE_PATH = 'glove.840B.300d.txt'\n",
    "model = torch.load('encoder/infersent.allnli.pickle',map_location=lambda storage, loc: storage)\n",
    "model.set_glove_path(GLOVE_PATH)\n",
    "\n",
    "sentences = {}\n",
    "x=0\n",
    "with open('Petitionstitle') as f:\n",
    "    for line in f:\n",
    "        sentences[str(x)] = line.strip().decode(\"utf-8\")\n",
    "        x += 1\n",
    "\n",
    "print(len(sentences))\n",
    "\n",
    "model.build_vocab_k_words(K=100000)\n",
    "model.update_vocab(sentences.values(), tokenize=True)\n",
    "\n",
    "embeddings = model.encode(sentences.values(), bsize=1, tokenize=True, verbose=True)\n",
    "\n",
    "print len(embeddings), len(embeddings[0][0])\n",
    "\n",
    "writeout = []\n",
    "for i in range(0, len(embeddings)):\n",
    "        writeout.append(embeddings[i][0])\n",
    "\n",
    "np.savetxt(\"Titleembeddings\", writeout)\n"
   ]
  },
  {
   "cell_type": "code",
   "execution_count": null,
   "metadata": {
    "collapsed": true
   },
   "outputs": [],
   "source": [
    "from sklearn.svm import OneClassSVM\n",
    "from sklearn import svm\n",
    "import numpy as np\n",
    "from sklearn.preprocessing import scale\n",
    "\n",
    "x = np.loadtxt(\"NoactionTitle_embeddings\")\n",
    "pet = scale(np.loadtxt(\"Titleembeddings\"))\n",
    "\n",
    "clf = svm.OneClassSVM(kernel=\"linear\", nu=0.01)\n",
    "clf.fit(x)\n",
    "petact = clf.decision_function(train)\n",
    "\n",
    "#petition title action score\n",
    "np.savetxt(\"petactscore\", petact)\n"
   ]
  }
 ],
 "metadata": {
  "kernelspec": {
   "display_name": "Python 2",
   "language": "python",
   "name": "python2"
  },
  "language_info": {
   "codemirror_mode": {
    "name": "ipython",
    "version": 2
   },
   "file_extension": ".py",
   "mimetype": "text/x-python",
   "name": "python",
   "nbconvert_exporter": "python",
   "pygments_lexer": "ipython2",
   "version": "2.7.13"
  }
 },
 "nbformat": 4,
 "nbformat_minor": 2
}
